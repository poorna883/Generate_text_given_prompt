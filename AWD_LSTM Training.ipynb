{
 "cells": [
  {
   "cell_type": "markdown",
   "id": "ChRO5NzYDlkN",
   "metadata": {
    "id": "ChRO5NzYDlkN",
    "pycharm": {
     "name": "#%% md\n"
    }
   },
   "source": [
    "# Building an AWD-LSTM Model for Story Generation\n",
    "\n",
    "Text generation encompasses the creation of new text based on given input prompts. This task is well-demonstrated by tools like `GitHub's Copilot`, renowned for generating code. Beyond code, text generation capabilities include:\n",
    "\n",
    "> - **Story Generation**: For instance, inputting \"Once upon a time\" into a GPT-2 model can lead to the creation of imaginative stories.\n",
    ">\n",
    "> - **Poetry Generation**: Models can also be used to compose poetry.\n",
    ">\n",
    "> - **Paragraph Completion**: They are capable of filling in missing parts of a paragraph, maintaining the flow and context.\n",
    ">\n",
    "> - **Article Summarization**: These models can succinctly summarize lengthy articles.\n",
    ">\n",
    "> - **Question Answering**: Given a context, models can be designed to answer various questions.\n",
    "\n",
    "In this tutorial, we aim to train an AWD-LSTM model, a specific architecture designed for text generation, particularly for the purpose of story generation. Our focus will be on training a causal language model, which is tasked with predicting the next token in a sequence, thereby learning the pattern and structure of the input data.\n",
    "\n",
    "**Our Workflow Includes:**\n",
    "\n",
    "> - **Dataset Loading**: First, we'll load our data from CSV files, prepping it for the model.\n",
    ">\n",
    "> - **Text Tokenization and Preprocessing**: We'll process the text, converting it into a tokenized format suitable for our model.\n",
    ">\n",
    "> - **Batch Creation**: Next, we organize the tokenized text into batches for efficient training.\n",
    "> - **Custom Training the AWD-LSTM Model**: We will fine-tune the AWD-LSTM model, adapting it to better suit the task of story generation.\n",
    ">\n",
    "> - **Model Evaluation**: Finally, we'll evaluate the performance of our trained model using various metrics to ensure its effectiveness in generating text.\n"
   ]
  },
  {
   "cell_type": "markdown",
   "id": "05cc8f81",
   "metadata": {
    "id": "05cc8f81",
    "pycharm": {
     "name": "#%% md\n"
    }
   },
   "source": [
    "## Parameters for notebook execution:\n",
    "\n",
    "It's better to store all the parameters we need for a successful execution in one place. This way it's easy to manage the parameters. "
   ]
  },
  {
   "cell_type": "code",
   "execution_count": null,
   "id": "b309ff88",
   "metadata": {
    "id": "b309ff88",
    "pycharm": {
     "name": "#%%\n"
    }
   },
   "outputs": [],
   "source": [
    "# parameters\n",
    "\n",
    "# SAMPLE\n",
    "TRAIN_ROWS=50000\n",
    "TEST_ROWS=5000\n",
    "\n",
    "# PATH OF CSV FILES\n",
    "DIR_PATH = './Downloads'\n",
    "TRAIN_PATH= DIR_PATH+\"/data/train_df.csv\"\n",
    "VALID_PATH=DIR_PATH+\"/data/valid_df.csv\"\n",
    "TEST_PATH= DIR_PATH+\"/data/test_df.csv\"\n",
    "\n",
    "# DATA PROCESSING\n",
    "CONTEXT_LEN=256\n",
    "\n",
    "# HYPERPARAMETERS\n",
    "TRAIN_BS= 64\n",
    "TEST_BS= 64 \n",
    "EPOCHS=5"
   ]
  },
  {
   "cell_type": "markdown",
   "id": "JdGPz7nOF9mT",
   "metadata": {
    "id": "JdGPz7nOF9mT",
    "pycharm": {
     "name": "#%% md\n"
    }
   },
   "source": [
    "### Loading the Data\n",
    "\n",
    "The first step in our model's journey is to load the dataset from `CSV` files. This stage is critical as it provides the raw material – the text data – that our model will learn and generate stories from. We ensure that the data is correctly imported and ready for the next stages of processing and model training."
   ]
  },
  {
   "cell_type": "code",
   "execution_count": null,
   "id": "43fafd9d",
   "metadata": {
    "id": "43fafd9d",
    "pycharm": {
     "name": "#%%\n"
    }
   },
   "outputs": [],
   "source": [
    "# import required libraries\n",
    "from fastai.text.all import *\n",
    "import pandas as pd"
   ]
  },
  {
   "cell_type": "code",
   "execution_count": null,
   "id": "f21416b2",
   "metadata": {
    "id": "f21416b2",
    "pycharm": {
     "name": "#%%\n"
    }
   },
   "outputs": [],
   "source": [
    "# load the data\n",
    "train_df = pd.read_csv(TRAIN_PATH)\n",
    "test_df = pd.read_csv(TEST_PATH)\n",
    "valid_df = pd.read_csv(VALID_PATH)"
   ]
  },
  {
   "cell_type": "markdown",
   "id": "wJ4MLgUQJCAw",
   "metadata": {
    "id": "wJ4MLgUQJCAw",
    "pycharm": {
     "name": "#%% md\n"
    }
   },
   "source": [
    "Let's drop the unecessary columns:\n",
    "- `Unnamed: 0`\n",
    "- `prompts`\n"
   ]
  },
  {
   "cell_type": "code",
   "execution_count": null,
   "id": "d167f271",
   "metadata": {
    "id": "d167f271",
    "pycharm": {
     "name": "#%%\n"
    }
   },
   "outputs": [],
   "source": [
    "train_df.drop(columns=['Unnamed: 0', 'prompts'], inplace=True)\n",
    "test_df.drop(columns=['Unnamed: 0', 'prompts'], inplace=True)\n",
    "valid_df.drop(columns=['Unnamed: 0', 'prompts'], inplace=True)"
   ]
  },
  {
   "cell_type": "markdown",
   "id": "WWifn8roMQah",
   "metadata": {
    "id": "WWifn8roMQah",
    "pycharm": {
     "name": "#%% md\n"
    }
   },
   "source": [
    "Selecting a subset of the data"
   ]
  },
  {
   "cell_type": "code",
   "execution_count": null,
   "id": "7403eaf2",
   "metadata": {
    "id": "7403eaf2",
    "pycharm": {
     "name": "#%%\n"
    }
   },
   "outputs": [],
   "source": [
    "train_df = train_df.sample(n=TRAIN_ROWS, random_state=42)\n",
    "valid_df = valid_df.sample(n=TEST_ROWS, random_state=42)"
   ]
  },
  {
   "cell_type": "markdown",
   "id": "tPTUNKg2Nkx6",
   "metadata": {
    "id": "tPTUNKg2Nkx6",
    "pycharm": {
     "name": "#%% md\n"
    }
   },
   "source": [
    "`Fastai` requires us to tell it whether the data is coming from the training set or the testing set. So, we need to create a `is_valid` column which tells us whether the row represents data from the training set or the validation set. "
   ]
  },
  {
   "cell_type": "code",
   "execution_count": null,
   "id": "gl-y46MgNjTc",
   "metadata": {
    "id": "gl-y46MgNjTc",
    "pycharm": {
     "name": "#%%\n"
    }
   },
   "outputs": [],
   "source": [
    "train_df['is_valid']=False\n",
    "valid_df['is_valid']=True"
   ]
  },
  {
   "cell_type": "code",
   "execution_count": null,
   "id": "e9a707da",
   "metadata": {
    "id": "e9a707da",
    "pycharm": {
     "name": "#%%\n"
    }
   },
   "outputs": [],
   "source": [
    "all_df = pd.concat([train_df, valid_df],ignore_index=True)"
   ]
  },
  {
   "cell_type": "markdown",
   "id": "Ecd3IBLOOmnb",
   "metadata": {
    "id": "Ecd3IBLOOmnb",
    "pycharm": {
     "name": "#%% md\n"
    }
   },
   "source": [
    "### Creating DataBlock and Dataloaders\n",
    "\n",
    "Following the data loading phase, we proceed to set up the `DataBlock` and `Dataloaders`:\n",
    "\n",
    "1. **DataBlock Configuration**: We configure the `DataBlock` to handle text processing tasks like tokenization and splitting the dataset into training and validation sets.\n",
    "\n",
    "2. **Preprocessing Steps**: The `DataBlock` facilitates any necessary custom preprocessing to ensure data consistency and structure.\n",
    "\n",
    "3. **Dataloaders Initialization**: Using the `DataBlock`, we create `Dataloaders` which batch the data, optimizing it for model training.\n",
    "\n",
    "4. **Efficient Data Handling**: The `Dataloaders` manage tasks such as shuffling and parallel data loading, enhancing training efficiency.\n",
    "\n",
    "5. **Training Readiness**: With `Dataloaders`, the data is structured and presented in a way that is ideal for the training of our model."
   ]
  },
  {
   "cell_type": "code",
   "execution_count": null,
   "id": "KAA0zG5PUBgS",
   "metadata": {
    "id": "KAA0zG5PUBgS",
    "pycharm": {
     "name": "#%%\n"
    }
   },
   "outputs": [],
   "source": [
    "dsets= DataBlock(blocks=TextBlock.from_df('stories',min_freq=3,is_lm=True),\n",
    "                    get_x=ColReader('text'),\n",
    "                    splitter=ColSplitter())"
   ]
  },
  {
   "cell_type": "code",
   "execution_count": null,
   "id": "f31f5dfc",
   "metadata": {
    "colab": {
     "base_uri": "https://localhost:8080/",
     "height": 17
    },
    "executionInfo": {
     "elapsed": 85397,
     "status": "ok",
     "timestamp": 1681678672531,
     "user": {
      "displayName": "mango jain",
      "userId": "08538486604454803686"
     },
     "user_tz": 240
    },
    "id": "f31f5dfc",
    "outputId": "96c7a89c-d564-473e-8dab-e0d3037abba7",
    "pycharm": {
     "name": "#%%\n"
    }
   },
   "outputs": [
    {
     "data": {
      "text/html": [
       "\n",
       "<style>\n",
       "    /* Turns off some styling */\n",
       "    progress {\n",
       "        /* gets rid of default border in Firefox and Opera. */\n",
       "        border: none;\n",
       "        /* Needs to be in here for Safari polyfill so background images work as expected. */\n",
       "        background-size: auto;\n",
       "    }\n",
       "    progress:not([value]), progress:not([value])::-webkit-progress-bar {\n",
       "        background: repeating-linear-gradient(45deg, #7e7e7e, #7e7e7e 10px, #5c5c5c 10px, #5c5c5c 20px);\n",
       "    }\n",
       "    .progress-bar-interrupted, .progress-bar-interrupted::-webkit-progress-bar {\n",
       "        background: #F44336;\n",
       "    }\n",
       "</style>\n"
      ],
      "text/plain": [
       "<IPython.core.display.HTML object>"
      ]
     },
     "metadata": {},
     "output_type": "display_data"
    },
    {
     "data": {
      "text/html": [],
      "text/plain": [
       "<IPython.core.display.HTML object>"
      ]
     },
     "metadata": {},
     "output_type": "display_data"
    }
   ],
   "source": [
    "dls = dsets.dataloaders(source=all_df,bs=TRAIN_BS,seq_len=CONTEXT_LEN)"
   ]
  },
  {
   "cell_type": "markdown",
   "id": "A_K7VOKMdXPa",
   "metadata": {
    "id": "A_K7VOKMdXPa",
    "pycharm": {
     "name": "#%% md\n"
    }
   },
   "source": [
    "## Training the Model:\n",
    "After the data processing is done, we need to train the model. "
   ]
  },
  {
   "cell_type": "code",
   "execution_count": null,
   "id": "12d23535",
   "metadata": {
    "colab": {
     "base_uri": "https://localhost:8080/",
     "height": 37
    },
    "executionInfo": {
     "elapsed": 4956,
     "status": "ok",
     "timestamp": 1681678677828,
     "user": {
      "displayName": "mango jain",
      "userId": "08538486604454803686"
     },
     "user_tz": 240
    },
    "id": "12d23535",
    "outputId": "f6b528d5-4396-419b-c3e1-644cf45bce24",
    "pycharm": {
     "name": "#%%\n"
    }
   },
   "outputs": [
    {
     "data": {
      "text/html": [
       "\n",
       "<style>\n",
       "    /* Turns off some styling */\n",
       "    progress {\n",
       "        /* gets rid of default border in Firefox and Opera. */\n",
       "        border: none;\n",
       "        /* Needs to be in here for Safari polyfill so background images work as expected. */\n",
       "        background-size: auto;\n",
       "    }\n",
       "    progress:not([value]), progress:not([value])::-webkit-progress-bar {\n",
       "        background: repeating-linear-gradient(45deg, #7e7e7e, #7e7e7e 10px, #5c5c5c 10px, #5c5c5c 20px);\n",
       "    }\n",
       "    .progress-bar-interrupted, .progress-bar-interrupted::-webkit-progress-bar {\n",
       "        background: #F44336;\n",
       "    }\n",
       "</style>\n"
      ],
      "text/plain": [
       "<IPython.core.display.HTML object>"
      ]
     },
     "metadata": {},
     "output_type": "display_data"
    },
    {
     "data": {
      "text/html": [
       "\n",
       "    <div>\n",
       "      <progress value='105070592' class='' max='105067061' style='width:300px; height:20px; vertical-align: middle;'></progress>\n",
       "      100.00% [105070592/105067061 00:01&lt;00:00]\n",
       "    </div>\n",
       "    "
      ],
      "text/plain": [
       "<IPython.core.display.HTML object>"
      ]
     },
     "metadata": {},
     "output_type": "display_data"
    }
   ],
   "source": [
    "learn = language_model_learner(dls, AWD_LSTM, drop_mult=0.3, \n",
    "    metrics=[accuracy, Perplexity()]\n",
    "    ).to_fp16()"
   ]
  },
  {
   "cell_type": "code",
   "execution_count": null,
   "id": "oFplFyC72aXe",
   "metadata": {
    "id": "oFplFyC72aXe",
    "pycharm": {
     "name": "#%%\n"
    }
   },
   "outputs": [],
   "source": [
    "learn.model.reset()"
   ]
  },
  {
   "cell_type": "code",
   "execution_count": null,
   "id": "a529e4c5",
   "metadata": {
    "colab": {
     "base_uri": "https://localhost:8080/",
     "height": 471
    },
    "executionInfo": {
     "elapsed": 55032,
     "status": "ok",
     "timestamp": 1681678732857,
     "user": {
      "displayName": "mango jain",
      "userId": "08538486604454803686"
     },
     "user_tz": 240
    },
    "id": "a529e4c5",
    "outputId": "20df99be-497c-4783-cdb7-f5834206dc09",
    "pycharm": {
     "name": "#%%\n",
     "is_executing": true
    }
   },
   "outputs": [],
   "source": [
    "# find the optimal learning rate\n",
    "learn.lr_find()"
   ]
  },
  {
   "cell_type": "code",
   "execution_count": null,
   "id": "6d9745d9",
   "metadata": {
    "colab": {
     "base_uri": "https://localhost:8080/",
     "height": 111
    },
    "executionInfo": {
     "elapsed": 2287548,
     "status": "ok",
     "timestamp": 1681681020398,
     "user": {
      "displayName": "mango jain",
      "userId": "08538486604454803686"
     },
     "user_tz": 240
    },
    "id": "6d9745d9",
    "outputId": "4b03f6fa-66a6-4eba-bc8c-6c1df930317a",
    "pycharm": {
     "name": "#%%\n",
     "is_executing": true
    }
   },
   "outputs": [],
   "source": [
    "# train the language model\n",
    "learn.fit_one_cycle(2, 1e-2)"
   ]
  },
  {
   "cell_type": "code",
   "execution_count": null,
   "id": "23Ex76U5io9v",
   "metadata": {
    "colab": {
     "base_uri": "https://localhost:8080/",
     "height": 80
    },
    "executionInfo": {
     "elapsed": 1141163,
     "status": "ok",
     "timestamp": 1681682161551,
     "user": {
      "displayName": "mango jain",
      "userId": "08538486604454803686"
     },
     "user_tz": 240
    },
    "id": "23Ex76U5io9v",
    "outputId": "82e37572-49e9-4d60-8b87-5d18ed343fe8",
    "pycharm": {
     "name": "#%%\n",
     "is_executing": true
    }
   },
   "outputs": [],
   "source": [
    "\n",
    "learn.fit_one_cycle(1, 2e-3)"
   ]
  },
  {
   "cell_type": "code",
   "execution_count": null,
   "id": "6d6c74c7",
   "metadata": {
    "colab": {
     "base_uri": "https://localhost:8080/"
    },
    "executionInfo": {
     "elapsed": 1459,
     "status": "ok",
     "timestamp": 1681682292850,
     "user": {
      "displayName": "mango jain",
      "userId": "08538486604454803686"
     },
     "user_tz": 240
    },
    "id": "6d6c74c7",
    "outputId": "eb0f8ca2-1e2d-4aed-c498-6c4b4ce20813",
    "pycharm": {
     "name": "#%%\n"
    }
   },
   "outputs": [
    {
     "data": {
      "text/plain": [
       "Path('models/story_awd_lstm.pth')"
      ]
     },
     "execution_count": 29,
     "metadata": {},
     "output_type": "execute_result"
    }
   ],
   "source": [
    "learn.save(\"story_awd_lstm\")"
   ]
  },
  {
   "cell_type": "markdown",
   "id": "4b7e98a2",
   "metadata": {
    "id": "4b7e98a2",
    "pycharm": {
     "name": "#%% md\n"
    }
   },
   "source": [
    "## __Perplexity__"
   ]
  },
  {
   "cell_type": "code",
   "execution_count": null,
   "id": "736d838d",
   "metadata": {
    "colab": {
     "base_uri": "https://localhost:8080/",
     "height": 17
    },
    "executionInfo": {
     "elapsed": 91121,
     "status": "ok",
     "timestamp": 1681682291075,
     "user": {
      "displayName": "mango jain",
      "userId": "08538486604454803686"
     },
     "user_tz": 240
    },
    "id": "736d838d",
    "outputId": "c861aa21-924f-42e4-89dd-e21b780e8575",
    "pycharm": {
     "name": "#%%\n"
    }
   },
   "outputs": [
    {
     "data": {
      "text/html": [
       "\n",
       "<style>\n",
       "    /* Turns off some styling */\n",
       "    progress {\n",
       "        /* gets rid of default border in Firefox and Opera. */\n",
       "        border: none;\n",
       "        /* Needs to be in here for Safari polyfill so background images work as expected. */\n",
       "        background-size: auto;\n",
       "    }\n",
       "    progress:not([value]), progress:not([value])::-webkit-progress-bar {\n",
       "        background: repeating-linear-gradient(45deg, #7e7e7e, #7e7e7e 10px, #5c5c5c 10px, #5c5c5c 20px);\n",
       "    }\n",
       "    .progress-bar-interrupted, .progress-bar-interrupted::-webkit-progress-bar {\n",
       "        background: #F44336;\n",
       "    }\n",
       "</style>\n"
      ],
      "text/plain": [
       "<IPython.core.display.HTML object>"
      ]
     },
     "metadata": {},
     "output_type": "display_data"
    },
    {
     "data": {
      "text/html": [],
      "text/plain": [
       "<IPython.core.display.HTML object>"
      ]
     },
     "metadata": {},
     "output_type": "display_data"
    }
   ],
   "source": [
    "valid_perplexity = learn.validate()[2]"
   ]
  },
  {
   "cell_type": "code",
   "execution_count": null,
   "id": "b38449fe",
   "metadata": {
    "colab": {
     "base_uri": "https://localhost:8080/"
    },
    "executionInfo": {
     "elapsed": 9,
     "status": "ok",
     "timestamp": 1681682291076,
     "user": {
      "displayName": "mango jain",
      "userId": "08538486604454803686"
     },
     "user_tz": 240
    },
    "id": "b38449fe",
    "outputId": "33d49d75-0646-43df-94eb-07ff26a62a1a",
    "pycharm": {
     "name": "#%%\n"
    }
   },
   "outputs": [
    {
     "data": {
      "text/plain": [
       "25.749881744384766"
      ]
     },
     "execution_count": 28,
     "metadata": {},
     "output_type": "execute_result"
    }
   ],
   "source": [
    "valid_perplexity"
   ]
  },
  {
   "cell_type": "code",
   "execution_count": null,
   "outputs": [],
   "source": [
    "def data(n=10):\n",
    "    for i in range(n):\n",
    "\n",
    "        # pass first 10 words\n",
    "        yield \" \".join(dataset['test'][i]['stories'].split(\" \")[:10])"
   ],
   "metadata": {
    "collapsed": false,
    "pycharm": {
     "name": "#%%\n"
    }
   }
  },
  {
   "cell_type": "code",
   "execution_count": null,
   "outputs": [],
   "source": [
    "predictions=[]\n",
    "references=[]\n",
    "\n",
    "i=0\n",
    "for out in pipe(data(),num_return_sequences=1,num_beams=3,\n",
    "                do_sample=True, max_new_tokens=100,\n",
    "                pad_token_id=tokenizer.eos_token_id):\n",
    "\n",
    "    references.append(\" \".join(dataset['test'][i]['stories'].split(\" \")[10:100]))\n",
    "    predictions.append(\" \".join(out[0]['generated_text'].split(\" \")[10:100]))\n",
    "\n",
    "    i+=1"
   ],
   "metadata": {
    "collapsed": false,
    "pycharm": {
     "name": "#%%\n"
    }
   }
  }
 ],
 "metadata": {
  "accelerator": "GPU",
  "colab": {
   "machine_shape": "hm",
   "provenance": []
  },
  "gpuClass": "premium",
  "kernelspec": {
   "display_name": "Python 3 (ipykernel)",
   "language": "python",
   "name": "python3"
  },
  "language_info": {
   "codemirror_mode": {
    "name": "ipython",
    "version": 3
   },
   "file_extension": ".py",
   "mimetype": "text/x-python",
   "name": "python",
   "nbconvert_exporter": "python",
   "pygments_lexer": "ipython3",
   "version": "3.10.9"
  }
 },
 "nbformat": 4,
 "nbformat_minor": 5
}